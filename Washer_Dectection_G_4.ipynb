{
 "cells": [
  {
   "cell_type": "code",
   "execution_count": 1,
   "metadata": {
    "colab": {
     "base_uri": "https://localhost:8080/"
    },
    "id": "nD3EEfKzFftV",
    "outputId": "59cae2df-ad39-42ae-a6ba-49e21987bc97"
   },
   "outputs": [
    {
     "name": "stdout",
     "output_type": "stream",
     "text": [
      "Tue Nov  5 18:47:07 2024       \n",
      "+-----------------------------------------------------------------------------------------+\n",
      "| NVIDIA-SMI 565.90                 Driver Version: 565.90         CUDA Version: 12.7     |\n",
      "|-----------------------------------------+------------------------+----------------------+\n",
      "| GPU  Name                  Driver-Model | Bus-Id          Disp.A | Volatile Uncorr. ECC |\n",
      "| Fan  Temp   Perf          Pwr:Usage/Cap |           Memory-Usage | GPU-Util  Compute M. |\n",
      "|                                         |                        |               MIG M. |\n",
      "|=========================================+========================+======================|\n",
      "|   0  NVIDIA GeForce GTX 1650      WDDM  |   00000000:01:00.0 Off |                  N/A |\n",
      "| N/A   45C    P8              3W /   50W |       0MiB /   4096MiB |      0%      Default |\n",
      "|                                         |                        |                  N/A |\n",
      "+-----------------------------------------+------------------------+----------------------+\n",
      "                                                                                         \n",
      "+-----------------------------------------------------------------------------------------+\n",
      "| Processes:                                                                              |\n",
      "|  GPU   GI   CI        PID   Type   Process name                              GPU Memory |\n",
      "|        ID   ID                                                               Usage      |\n",
      "|=========================================================================================|\n",
      "+-----------------------------------------------------------------------------------------+\n"
     ]
    }
   ],
   "source": [
    "!nvidia-smi"
   ]
  },
  {
   "cell_type": "code",
   "execution_count": 2,
   "metadata": {
    "colab": {
     "base_uri": "https://localhost:8080/"
    },
    "id": "AO4MWPmnFk7m",
    "outputId": "7850df81-a40b-467c-be68-9f17ebdff307"
   },
   "outputs": [
    {
     "name": "stdout",
     "output_type": "stream",
     "text": [
      "c:\\Users\\pspkm\\Desktop\\QDC Lab Code\n"
     ]
    }
   ],
   "source": [
    "import os\n",
    "HOME = os.getcwd()\n",
    "print(HOME)"
   ]
  },
  {
   "cell_type": "code",
   "execution_count": 23,
   "metadata": {
    "id": "Y3DjvPRiGIht"
   },
   "outputs": [],
   "source": [
    "SOURCE_VIDEO_PATH = r'C:\\Users\\pspkm\\Desktop\\QDC Lab Code\\video.mp4'"
   ]
  },
  {
   "cell_type": "code",
   "execution_count": 5,
   "metadata": {
    "colab": {
     "base_uri": "https://localhost:8080/"
    },
    "id": "S2kB2mCmGPmL",
    "outputId": "87ab791b-7f7a-48c4-e988-93c34efb0fab"
   },
   "outputs": [
    {
     "name": "stderr",
     "output_type": "stream",
     "text": [
      "Ultralytics YOLOv8.0.145  Python-3.9.19 torch-1.12.1 CPU (AMD Ryzen 5 3550H with Radeon Vega Mobile Gfx)\n",
      "Setup complete  (8 CPUs, 13.9 GB RAM, 268.0/418.3 GB disk)\n"
     ]
    }
   ],
   "source": [
    "!pip install ultralytics\n",
    "\n",
    "from IPython import display\n",
    "display.clear_output()\n",
    "\n",
    "import ultralytics\n",
    "ultralytics.checks()"
   ]
  },
  {
   "cell_type": "code",
   "execution_count": 31,
   "metadata": {
    "colab": {
     "base_uri": "https://localhost:8080/"
    },
    "id": "dbt0QFEn9OFu",
    "outputId": "93a3824c-0d99-4b3e-bd6a-55f7faca2dae"
   },
   "outputs": [
    {
     "name": "stdout",
     "output_type": "stream",
     "text": [
      "supervision.__version__: 0.1.0\n"
     ]
    }
   ],
   "source": [
    "from IPython import display\n",
    "display.clear_output()\n",
    "\n",
    "import supervision as sv\n",
    "print(\"supervision.__version__:\", sv.__version__)"
   ]
  },
  {
   "cell_type": "code",
   "execution_count": 7,
   "metadata": {
    "id": "uxe67PQVHBCA"
   },
   "outputs": [],
   "source": [
    "MODEL = r'C:\\Users\\pspkm\\Desktop\\QDC Lab Code\\best.pt'"
   ]
  },
  {
   "cell_type": "code",
   "execution_count": 9,
   "metadata": {
    "colab": {
     "base_uri": "https://localhost:8080/"
    },
    "id": "9-7SBD_bHDuQ",
    "outputId": "3ea1293e-91e2-4e56-c47e-c688bca85fa4"
   },
   "outputs": [
    {
     "name": "stderr",
     "output_type": "stream",
     "text": [
      "Model summary (fused): 168 layers, 11125971 parameters, 0 gradients, 28.4 GFLOPs\n"
     ]
    }
   ],
   "source": [
    "from ultralytics import YOLO\n",
    "\n",
    "model = YOLO(MODEL)\n",
    "model.fuse()"
   ]
  },
  {
   "cell_type": "code",
   "execution_count": 10,
   "metadata": {
    "id": "QEx7Wn7F9Tlc"
   },
   "outputs": [],
   "source": [
    "# dict maping class_id to class_name\n",
    "CLASS_NAMES_DICT = model.model.names\n",
    "\n",
    "# class_ids of interest - car, motorcycle, bus and truck\n",
    "selected_classes = [0]"
   ]
  },
  {
   "cell_type": "code",
   "execution_count": 11,
   "metadata": {
    "id": "noOycxILHjYI"
   },
   "outputs": [],
   "source": [
    "import supervision as sv\n",
    "import numpy as np"
   ]
  },
  {
   "cell_type": "code",
   "execution_count": 30,
   "metadata": {
    "colab": {
     "base_uri": "https://localhost:8080/",
     "height": 1000
    },
    "id": "ZuNPZ2hvHeZV",
    "outputId": "9985d963-c3cd-42b8-c43b-1fdf37835c82"
   },
   "outputs": [
    {
     "ename": "AttributeError",
     "evalue": "module 'supervision' has no attribute 'get_video_frames_generator'",
     "output_type": "error",
     "traceback": [
      "\u001b[1;31m---------------------------------------------------------------------------\u001b[0m",
      "\u001b[1;31mAttributeError\u001b[0m                            Traceback (most recent call last)",
      "Cell \u001b[1;32mIn[30], line 2\u001b[0m\n\u001b[0;32m      1\u001b[0m \u001b[38;5;66;03m# create frame generator\u001b[39;00m\n\u001b[1;32m----> 2\u001b[0m generator \u001b[38;5;241m=\u001b[39m \u001b[43msv\u001b[49m\u001b[38;5;241;43m.\u001b[39;49m\u001b[43mget_video_frames_generator\u001b[49m(SOURCE_VIDEO_PATH)\n\u001b[0;32m      3\u001b[0m \u001b[38;5;66;03m# create instance of BoxAnnotator\u001b[39;00m\n\u001b[0;32m      4\u001b[0m box_annotator \u001b[38;5;241m=\u001b[39m sv\u001b[38;5;241m.\u001b[39mBoxAnnotator(thickness\u001b[38;5;241m=\u001b[39m\u001b[38;5;241m4\u001b[39m)\n",
      "\u001b[1;31mAttributeError\u001b[0m: module 'supervision' has no attribute 'get_video_frames_generator'"
     ]
    }
   ],
   "source": [
    "# create frame generator\n",
    "generator = sv.get_video_frames_generator(SOURCE_VIDEO_PATH)\n",
    "# create instance of BoxAnnotator\n",
    "box_annotator = sv.BoxAnnotator(thickness=4)\n",
    "# acquire first video frame\n",
    "iterator = iter(generator)\n",
    "frame = next(iterator)\n",
    "# model prediction on single frame and conversion to supervision Detections\n",
    "results = model(frame, verbose=False)[0]\n",
    "\n",
    "# convert to Detections\n",
    "detections = sv.Detections.from_ultralytics(results)\n",
    "# only consider class id from selected_classes define above\n",
    "detections = detections[np.isin(detections.class_id, selected_classes)]\n",
    "\n",
    "# format custom labels\n",
    "labels = [\n",
    "    f\"{CLASS_NAMES_DICT[class_id]} {confidence:0.2f}\"\n",
    "    for confidence, class_id in zip(detections.confidence, detections.class_id)\n",
    "]\n",
    "\n",
    "# annotate and display frame\n",
    "anotated_frame=box_annotator.annotate(scene=frame, detections=detections)\n",
    "\n",
    "%matplotlib inline\n",
    "sv.plot_image(anotated_frame, (16,16))"
   ]
  },
  {
   "cell_type": "markdown",
   "metadata": {
    "id": "Kc0NETYnJWex"
   },
   "source": [
    "## Predict and annotate whole video"
   ]
  },
  {
   "cell_type": "code",
   "execution_count": null,
   "metadata": {
    "id": "7Qwykp5K9VdK"
   },
   "outputs": [],
   "source": [
    "# settings\n",
    "LINE_START = sv.Point(10, 700)\n",
    "LINE_END = sv.Point(400-50, 700)\n",
    "\n",
    "TARGET_VIDEO_PATH = f\"{HOME}/washer_detector.mp4\""
   ]
  },
  {
   "cell_type": "code",
   "execution_count": null,
   "metadata": {
    "colab": {
     "base_uri": "https://localhost:8080/"
    },
    "id": "kTBvc5FDJcyw",
    "outputId": "2f698200-0848-4a98-85b8-c8fdde404701"
   },
   "outputs": [
    {
     "data": {
      "text/plain": [
       "VideoInfo(width=400, height=800, fps=20, total_frames=2934)"
      ]
     },
     "execution_count": 14,
     "metadata": {},
     "output_type": "execute_result"
    }
   ],
   "source": [
    "sv.VideoInfo.from_video_path(SOURCE_VIDEO_PATH)"
   ]
  },
  {
   "cell_type": "code",
   "execution_count": null,
   "metadata": {
    "id": "F_bromu9v-US"
   },
   "outputs": [],
   "source": [
    "import numpy as np\n",
    "import cv2\n",
    "import supervision as sv\n",
    "import csv\n",
    "import pandas as pd\n",
    "\n",
    "# Define color constants\n",
    "GREEN = (0, 255, 0)\n",
    "RED = (0, 0, 255)  # Red in BGR format\n",
    "\n",
    "# Initialize variables for storing washer information\n",
    "washer_info = []\n",
    "trackers = []\n",
    "next_id = 1\n",
    "\n",
    "# Define a function to calculate the Euclidean distance between two points\n",
    "def euclidean_distance(pt1, pt2):\n",
    "    return np.sqrt((pt1[0] - pt2[0]) ** 2 + (pt1[1] - pt2[1]) ** 2)\n",
    "\n",
    "# Define a function to update trackers with new detections\n",
    "def update_trackers(detections, frame):\n",
    "    global next_id\n",
    "\n",
    "    for det in detections:\n",
    "        bbox_center = ((det[0] + det[2]) / 2, (det[1] + det[3]) / 2)\n",
    "        matched = False\n",
    "\n",
    "        # Attempt to match the detection to an existing tracker\n",
    "        for tracker in trackers:\n",
    "            if euclidean_distance(tracker['center'], bbox_center) < 50:\n",
    "                tracker['bbox'] = det\n",
    "                tracker['center'] = bbox_center\n",
    "                tracker['frame_count'] = 0  # Reset the frame count after an update\n",
    "                matched = True\n",
    "                break\n",
    "\n",
    "        # If no match is found, create a new tracker\n",
    "        if not matched:\n",
    "            trackers.append({\n",
    "                'id': next_id,\n",
    "                'bbox': det,\n",
    "                'center': bbox_center,\n",
    "                'frame_count': 0\n",
    "            })\n",
    "            next_id += 1\n",
    "\n",
    "    # Remove old trackers that haven't been updated for a while\n",
    "    trackers[:] = [t for t in trackers if t['frame_count'] < 5]\n",
    "\n",
    "# Update the callback function\n",
    "def callback(frame: np.ndarray, index: int) -> np.ndarray:\n",
    "    global washer_info\n",
    "    global trackers\n",
    "\n",
    "    annotated_frame = frame.copy()\n",
    "\n",
    "    results = model(frame, verbose=False)[0]\n",
    "    detections = sv.Detections.from_ultralytics(results)\n",
    "\n",
    "    detections = detections[np.isin(detections.class_id, selected_classes)]\n",
    "\n",
    "    update_trackers(detections.xyxy, frame)\n",
    "\n",
    "    # Annotate each tracked object\n",
    "    for tracker in trackers:\n",
    "        tracker['frame_count'] += 1\n",
    "        bbox = tracker['bbox']\n",
    "\n",
    "        # Calculate the width and height of the bounding box\n",
    "        width = bbox[2] - bbox[0]\n",
    "        height = bbox[3] - bbox[1]\n",
    "\n",
    "        # Approximate the diameter as the diagonal of the bounding box\n",
    "        diameter = np.sqrt(width**2 + height**2)\n",
    "\n",
    "        diameter_mm = diameter*0.3978 - 1.6812\n",
    "\n",
    "        # Set the color based on the diameter\n",
    "        color = GREEN if 26.5 <= diameter_mm <= 27.5 else RED\n",
    "\n",
    "        annotated_frame = cv2.rectangle(\n",
    "            img=annotated_frame,\n",
    "            pt1=(int(bbox[0]), int(bbox[1])),\n",
    "            pt2=(int(bbox[2]), int(bbox[3])),\n",
    "            color=color,\n",
    "            thickness=4\n",
    "        )\n",
    "\n",
    "        # Add the washer number and diameter at the top of the bounding box\n",
    "        label = f\"Washer {tracker['id']}: {diameter_mm:.2f} mm\"\n",
    "        annotated_frame = cv2.putText(\n",
    "            img=annotated_frame,\n",
    "            text=label,\n",
    "            org=(int(bbox[0]), int(bbox[1]) - 10),\n",
    "            fontFace=cv2.FONT_HERSHEY_SIMPLEX,\n",
    "            fontScale=0.5,\n",
    "            color=color,\n",
    "            thickness=2,\n",
    "            lineType=cv2.LINE_AA\n",
    "        )\n",
    "\n",
    "        # Save washer information\n",
    "        washer_info.append({\n",
    "            'Washer ID': tracker['id'],\n",
    "            'Diagonal (px)': diameter,\n",
    "            'Diameter (mm)': diameter_mm\n",
    "        })\n",
    "\n",
    "    return annotated_frame\n",
    "\n",
    "# Process the whole video\n",
    "sv.process_video(\n",
    "    source_path=SOURCE_VIDEO_PATH,\n",
    "    target_path=TARGET_VIDEO_PATH,\n",
    "    callback=callback\n",
    ")\n",
    "\n"
   ]
  },
  {
   "cell_type": "code",
   "execution_count": null,
   "metadata": {
    "colab": {
     "base_uri": "https://localhost:8080/"
    },
    "id": "Q-pWDSNpwzHQ",
    "outputId": "630601b4-dbc8-42ed-e29a-1284de06157d"
   },
   "outputs": [
    {
     "name": "stdout",
     "output_type": "stream",
     "text": [
      "Processed video saved to: /content/washer_detector.mp4\n",
      "CSV file saved to: filtered_washer_info.csv\n",
      "Number of washers: 14\n"
     ]
    }
   ],
   "source": [
    "import pandas as pd\n",
    "\n",
    "# Create a DataFrame from the washer_info list\n",
    "df = pd.DataFrame(washer_info)\n",
    "\n",
    "# Group by 'Washer ID' and count the occurrences of each washer\n",
    "washer_counts = df.groupby('Washer ID').size().reset_index(name='Frame Count')\n",
    "\n",
    "# Filter for washers appearing in more than 200 frames\n",
    "filtered_washers = washer_counts[washer_counts['Frame Count'] >= 200]\n",
    "\n",
    "# Merge filtered washers with original DataFrame to get washer information\n",
    "merged_df = pd.merge(filtered_washers, df, on='Washer ID')\n",
    "\n",
    "# Group the merged DataFrame by 'Washer ID' to calculate the average diagonal and diameter\n",
    "average_df = merged_df.groupby('Washer ID').agg({\n",
    "    'Diagonal (px)': 'mean',\n",
    "    'Diameter (mm)': 'mean'\n",
    "}).reset_index()\n",
    "\n",
    "# Merge the average_df with the filtered_washers to retain the Frame Count\n",
    "average_df = pd.merge(average_df, filtered_washers, on='Washer ID')\n",
    "\n",
    "# Save the results to a CSV file\n",
    "average_df.to_csv('filtered_washer_info.csv', index=False)\n",
    "\n",
    "# Print a summary (Optional)\n",
    "print(f\"Processed video saved to: {TARGET_VIDEO_PATH}\")\n",
    "print(f\"CSV file saved to: filtered_washer_info.csv\")\n",
    "print(f\"Number of washers: {len(average_df)}\")\n"
   ]
  },
  {
   "cell_type": "code",
   "execution_count": null,
   "metadata": {
    "id": "rR3hx9NjACzp"
   },
   "outputs": [],
   "source": []
  }
 ],
 "metadata": {
  "accelerator": "GPU",
  "colab": {
   "gpuType": "T4",
   "provenance": []
  },
  "kernelspec": {
   "display_name": "exp",
   "language": "python",
   "name": "python3"
  },
  "language_info": {
   "codemirror_mode": {
    "name": "ipython",
    "version": 3
   },
   "file_extension": ".py",
   "mimetype": "text/x-python",
   "name": "python",
   "nbconvert_exporter": "python",
   "pygments_lexer": "ipython3",
   "version": "3.9.19"
  }
 },
 "nbformat": 4,
 "nbformat_minor": 0
}
